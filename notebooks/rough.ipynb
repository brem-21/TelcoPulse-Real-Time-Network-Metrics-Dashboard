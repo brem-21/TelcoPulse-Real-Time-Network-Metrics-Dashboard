{
 "cells": [
  {
   "cell_type": "code",
   "execution_count": 1,
   "id": "69985347",
   "metadata": {},
   "outputs": [],
   "source": [
    "from pyspark.sql import SparkSession\n",
    "from pyspark.sql.functions import *\n",
    "from pyspark.sql.types import *"
   ]
  },
  {
   "cell_type": "code",
   "execution_count": 2,
   "id": "6b68687e",
   "metadata": {},
   "outputs": [
    {
     "name": "stderr",
     "output_type": "stream",
     "text": [
      "25/05/13 10:27:03 WARN Utils: Your hostname, brempong-HP-EliteBook-840-G7-Notebook-PC resolves to a loopback address: 127.0.1.1; using 192.168.36.94 instead (on interface wlp0s20f3)\n",
      "25/05/13 10:27:03 WARN Utils: Set SPARK_LOCAL_IP if you need to bind to another address\n",
      "Setting default log level to \"WARN\".\n",
      "To adjust logging level use sc.setLogLevel(newLevel). For SparkR, use setLogLevel(newLevel).\n",
      "25/05/13 10:27:03 WARN NativeCodeLoader: Unable to load native-hadoop library for your platform... using builtin-java classes where applicable\n"
     ]
    }
   ],
   "source": [
    "spark = SparkSession.builder.appName(\"MobileLogs\").getOrCreate()\n"
   ]
  },
  {
   "cell_type": "code",
   "execution_count": 3,
   "id": "cec39255",
   "metadata": {},
   "outputs": [
    {
     "data": {
      "text/html": [
       "\n",
       "            <div>\n",
       "                <p><b>SparkSession - in-memory</b></p>\n",
       "                \n",
       "        <div>\n",
       "            <p><b>SparkContext</b></p>\n",
       "\n",
       "            <p><a href=\"http://192.168.36.94:4040\">Spark UI</a></p>\n",
       "\n",
       "            <dl>\n",
       "              <dt>Version</dt>\n",
       "                <dd><code>v3.5.5</code></dd>\n",
       "              <dt>Master</dt>\n",
       "                <dd><code>local[*]</code></dd>\n",
       "              <dt>AppName</dt>\n",
       "                <dd><code>MobileLogs</code></dd>\n",
       "            </dl>\n",
       "        </div>\n",
       "        \n",
       "            </div>\n",
       "        "
      ],
      "text/plain": [
       "<pyspark.sql.session.SparkSession at 0x7739a212fec0>"
      ]
     },
     "execution_count": 3,
     "metadata": {},
     "output_type": "execute_result"
    }
   ],
   "source": [
    "spark"
   ]
  },
  {
   "cell_type": "code",
   "execution_count": 5,
   "id": "32651816",
   "metadata": {},
   "outputs": [
    {
     "name": "stderr",
     "output_type": "stream",
     "text": [
      "                                                                                \r"
     ]
    },
    {
     "name": "stdout",
     "output_type": "stream",
     "text": [
      "+-------------------+--------+-------+------+--------+-----------+------+----------------+-----+----------+----------+--------+--------+-----------+\n",
      "|               hour|     lat|   long|signal| network|   operator|status|     description|speed|satellites|precission|provider|activity|postal_code|\n",
      "+-------------------+--------+-------+------+--------+-----------+------+----------------+-----+----------+----------+--------+--------+-----------+\n",
      "|2025-05-13 00:01:16|41.67089|0.53407|     2|vodafone|vodafone ES|     0|STATE_IN_SERVICE|  0.0|       4.0|      51.0|     gps|   STILL|   250236.0|\n",
      "|2025-05-13 00:01:47|41.71431|1.77029|     3|vodafone|vodafone ES|     0|STATE_IN_SERVICE|  0.0|       2.0|     128.0|     gps|   STILL|    81786.0|\n",
      "|2025-05-13 00:01:59|41.44174|1.86907|    11|  orange|    JAZZTEL|     0|STATE_IN_SERVICE|  0.2|       5.0|      25.0|     gps| TILTING|    80919.0|\n",
      "|2025-05-13 00:05:15|41.20896|1.55499|     6|  orange|     Orange|     0|STATE_IN_SERVICE|  0.1|       5.0|      11.0|     gps| TILTING|   431634.0|\n",
      "|2025-05-13 00:06:54|41.44159|1.86879|    10|  orange|    JAZZTEL|     0|STATE_IN_SERVICE|  0.3|       3.0|      19.0|     gps| TILTING|    80919.0|\n",
      "|2025-05-13 00:09:20|41.04247|0.73315|    12|movistar|   Movistar|     0|STATE_IN_SERVICE|  0.0|       0.0|      26.0|   fused|   STILL|   431508.0|\n",
      "|2025-05-13 00:11:07|41.95519|2.64005|     9|vodafone|vodafone ES|     0|STATE_IN_SERVICE|  0.0|       0.0|      88.0|   fused| TILTING|   170084.0|\n",
      "|2025-05-13 00:11:15|41.67099|0.53379|     3|vodafone|vodafone ES|     0|STATE_IN_SERVICE|  0.2|       6.0|       9.0|     gps|   STILL|   250236.0|\n",
      "|2025-05-13 00:11:33|41.60815|2.09291|    51|vodafone|vodafone ES|     0|STATE_IN_SERVICE|  0.0|       1.0|      20.0|     gps|   STILL|    80517.0|\n",
      "|2025-05-13 00:36:35|41.60773|2.09341|    29|vodafone|vodafone ES|     0|STATE_IN_SERVICE|  0.2|       1.0|      46.0|     gps|   STILL|    80517.0|\n",
      "|2025-05-13 00:39:58|41.71435| 1.7698|     7|vodafone|vodafone ES|     0|STATE_IN_SERVICE|  0.0|       1.0|      64.0|     gps|   STILL|    81786.0|\n",
      "|2025-05-13 00:40:49|  41.294|1.77782|     4|movistar|   movistar|     0|STATE_IN_SERVICE|  0.0|       1.0|      16.0|     gps| TILTING|    81483.0|\n",
      "|2025-05-13 00:50:00|41.71445|1.76929|     6|vodafone|vodafone ES|     0|STATE_IN_SERVICE|  0.3|       0.0|      96.0|     gps|   STILL|    81786.0|\n",
      "|2025-05-13 00:50:26|41.48865|2.13417|     3|  orange|     Orange|     0|STATE_IN_SERVICE|  1.7|       3.0|      29.0|     gps| UNKNOWN|    82665.0|\n",
      "|2025-05-13 00:57:17|41.84139|2.24986|     9|vodafone|vodafone ES|     0|STATE_IN_SERVICE|  0.0|       5.0|      17.0|     gps| ON_FOOT|    82690.0|\n",
      "|2025-05-13 01:11:16|41.29094|1.98302|     4|vodafone|vodafone ES|     0|STATE_IN_SERVICE|  0.0|       0.0|      36.0|   fused|   STILL|    80569.0|\n",
      "|2025-05-13 01:14:26|41.92356| 2.3257|     2|  orange|     Orange|     0|STATE_IN_SERVICE|  0.0|       3.0|       6.0|     gps|   STILL|    82205.0|\n",
      "|2025-05-13 01:16:33|41.86381|2.65523|    28|movistar|   Movistar|     0|STATE_IN_SERVICE|  0.0|       2.0|      25.0|     gps|   STILL|   171805.0|\n",
      "|2025-05-13 01:31:26|41.69197|2.49059|     4|movistar|   Movistar|     0|STATE_IN_SERVICE|  0.0|       2.0|      18.0|     gps|   STILL|    82021.0|\n",
      "|2025-05-13 01:41:15|41.67128|0.53368|     3|vodafone|vodafone ES|     0|STATE_IN_SERVICE|  0.0|       7.0|      26.0|     gps|   STILL|   250236.0|\n",
      "+-------------------+--------+-------+------+--------+-----------+------+----------------+-----+----------+----------+--------+--------+-----------+\n",
      "only showing top 20 rows\n",
      "\n"
     ]
    }
   ],
   "source": [
    "data = spark.read.csv('../Data/mobile-logs.csv', inferSchema=True, header=True)\n",
    "data.show()"
   ]
  },
  {
   "cell_type": "code",
   "execution_count": 6,
   "id": "e7603071",
   "metadata": {},
   "outputs": [
    {
     "name": "stdout",
     "output_type": "stream",
     "text": [
      "+-------------------+--------+-------+------+--------+-----------+------+----------------+-----+----------+----------+--------+--------+-----------+\n",
      "|               hour|     lat|   long|signal| network|   operator|status|     description|speed|satellites|precission|provider|activity|postal_code|\n",
      "+-------------------+--------+-------+------+--------+-----------+------+----------------+-----+----------+----------+--------+--------+-----------+\n",
      "|2025-05-13 00:01:16|41.67089|0.53407|     2|vodafone|vodafone ES|     0|STATE_IN_SERVICE|  0.0|       4.0|      51.0|     gps|   STILL|   250236.0|\n",
      "|2025-05-13 00:01:47|41.71431|1.77029|     3|vodafone|vodafone ES|     0|STATE_IN_SERVICE|  0.0|       2.0|     128.0|     gps|   STILL|    81786.0|\n",
      "|2025-05-13 00:01:59|41.44174|1.86907|    11|  orange|    JAZZTEL|     0|STATE_IN_SERVICE|  0.2|       5.0|      25.0|     gps| TILTING|    80919.0|\n",
      "|2025-05-13 00:05:15|41.20896|1.55499|     6|  orange|     Orange|     0|STATE_IN_SERVICE|  0.1|       5.0|      11.0|     gps| TILTING|   431634.0|\n",
      "|2025-05-13 00:06:54|41.44159|1.86879|    10|  orange|    JAZZTEL|     0|STATE_IN_SERVICE|  0.3|       3.0|      19.0|     gps| TILTING|    80919.0|\n",
      "|2025-05-13 00:09:20|41.04247|0.73315|    12|movistar|   Movistar|     0|STATE_IN_SERVICE|  0.0|       0.0|      26.0|   fused|   STILL|   431508.0|\n",
      "|2025-05-13 00:11:07|41.95519|2.64005|     9|vodafone|vodafone ES|     0|STATE_IN_SERVICE|  0.0|       0.0|      88.0|   fused| TILTING|   170084.0|\n",
      "|2025-05-13 00:11:15|41.67099|0.53379|     3|vodafone|vodafone ES|     0|STATE_IN_SERVICE|  0.2|       6.0|       9.0|     gps|   STILL|   250236.0|\n",
      "|2025-05-13 00:11:33|41.60815|2.09291|    51|vodafone|vodafone ES|     0|STATE_IN_SERVICE|  0.0|       1.0|      20.0|     gps|   STILL|    80517.0|\n",
      "|2025-05-13 00:36:35|41.60773|2.09341|    29|vodafone|vodafone ES|     0|STATE_IN_SERVICE|  0.2|       1.0|      46.0|     gps|   STILL|    80517.0|\n",
      "|2025-05-13 00:39:58|41.71435| 1.7698|     7|vodafone|vodafone ES|     0|STATE_IN_SERVICE|  0.0|       1.0|      64.0|     gps|   STILL|    81786.0|\n",
      "|2025-05-13 00:40:49|  41.294|1.77782|     4|movistar|   movistar|     0|STATE_IN_SERVICE|  0.0|       1.0|      16.0|     gps| TILTING|    81483.0|\n",
      "|2025-05-13 00:50:00|41.71445|1.76929|     6|vodafone|vodafone ES|     0|STATE_IN_SERVICE|  0.3|       0.0|      96.0|     gps|   STILL|    81786.0|\n",
      "|2025-05-13 00:50:26|41.48865|2.13417|     3|  orange|     Orange|     0|STATE_IN_SERVICE|  1.7|       3.0|      29.0|     gps| UNKNOWN|    82665.0|\n",
      "|2025-05-13 00:57:17|41.84139|2.24986|     9|vodafone|vodafone ES|     0|STATE_IN_SERVICE|  0.0|       5.0|      17.0|     gps| ON_FOOT|    82690.0|\n",
      "|2025-05-13 01:11:16|41.29094|1.98302|     4|vodafone|vodafone ES|     0|STATE_IN_SERVICE|  0.0|       0.0|      36.0|   fused|   STILL|    80569.0|\n",
      "|2025-05-13 01:14:26|41.92356| 2.3257|     2|  orange|     Orange|     0|STATE_IN_SERVICE|  0.0|       3.0|       6.0|     gps|   STILL|    82205.0|\n",
      "|2025-05-13 01:16:33|41.86381|2.65523|    28|movistar|   Movistar|     0|STATE_IN_SERVICE|  0.0|       2.0|      25.0|     gps|   STILL|   171805.0|\n",
      "|2025-05-13 01:31:26|41.69197|2.49059|     4|movistar|   Movistar|     0|STATE_IN_SERVICE|  0.0|       2.0|      18.0|     gps|   STILL|    82021.0|\n",
      "|2025-05-13 01:41:15|41.67128|0.53368|     3|vodafone|vodafone ES|     0|STATE_IN_SERVICE|  0.0|       7.0|      26.0|     gps|   STILL|   250236.0|\n",
      "+-------------------+--------+-------+------+--------+-----------+------+----------------+-----+----------+----------+--------+--------+-----------+\n",
      "only showing top 20 rows\n",
      "\n"
     ]
    }
   ],
   "source": [
    "cleaned_data = data.filter(\n",
    "    col('hour').isNotNull() &\n",
    "    col('lat').isNotNull() &\n",
    "    col('long').isNotNull() &\n",
    "    col('signal').isNotNull() &\n",
    "    col('network').isNotNull() &\n",
    "    col('operator').isNotNull() &\n",
    "    col('status').isNotNull() &\n",
    "    col('description').isNotNull() &\n",
    "    col('speed').isNotNull() &\n",
    "    col('satellites').isNotNull() &\n",
    "    col('precission').isNotNull() &\n",
    "    col('provider').isNotNull() &\n",
    "    col('activity').isNotNull() &\n",
    "    col('postal_code').isNotNull())\n",
    "\n",
    "cleaned_data.show()"
   ]
  },
  {
   "cell_type": "code",
   "execution_count": null,
   "id": "c750794f",
   "metadata": {},
   "outputs": [
    {
     "name": "stdout",
     "output_type": "stream",
     "text": [
      "+---------------+--------------+---------------+-----------------+------------------+-------------------+-----------------+----------------------+----------------+---------------------+---------------------+-------------------+-------------------+----------------------+\n",
      "|null_count_hour|null_count_lat|null_count_long|null_count_signal|null_count_network|null_count_operator|null_count_status|null_count_description|null_count_speed|null_count_satellites|null_count_precission|null_count_provider|null_count_activity|null_count_postal_code|\n",
      "+---------------+--------------+---------------+-----------------+------------------+-------------------+-----------------+----------------------+----------------+---------------------+---------------------+-------------------+-------------------+----------------------+\n",
      "|              0|             0|              0|                0|                 0|                  0|                0|                     0|               0|                    0|                    0|                  0|                  0|                     0|\n",
      "+---------------+--------------+---------------+-----------------+------------------+-------------------+-----------------+----------------------+----------------+---------------------+---------------------+-------------------+-------------------+----------------------+\n",
      "\n"
     ]
    }
   ],
   "source": [
    "null_counts = cleaned_data.select([\n",
    "    sum(col(c).isNull().cast(\"int\")).alias(f\"null_count_{c}\") \n",
    "    for c in cleaned_data.columns\n",
    "])\n",
    "null_counts.show()"
   ]
  },
  {
   "cell_type": "code",
   "execution_count": 8,
   "id": "b0fef81c",
   "metadata": {},
   "outputs": [
    {
     "name": "stdout",
     "output_type": "stream",
     "text": [
      "+---------------+--------------+---------------+-----------------+------------------+-------------------+-----------------+----------------------+----------------+---------------------+---------------------+-------------------+-------------------+----------------------+\n",
      "|null_count_hour|null_count_lat|null_count_long|null_count_signal|null_count_network|null_count_operator|null_count_status|null_count_description|null_count_speed|null_count_satellites|null_count_precission|null_count_provider|null_count_activity|null_count_postal_code|\n",
      "+---------------+--------------+---------------+-----------------+------------------+-------------------+-----------------+----------------------+----------------+---------------------+---------------------+-------------------+-------------------+----------------------+\n",
      "|              0|             0|              0|                0|                 1|                  1|                0|                     0|               0|                    0|                    0|                  0|                  0|                   223|\n",
      "+---------------+--------------+---------------+-----------------+------------------+-------------------+-----------------+----------------------+----------------+---------------------+---------------------+-------------------+-------------------+----------------------+\n",
      "\n"
     ]
    }
   ],
   "source": [
    "null_counts = data.select([\n",
    "    sum(col(c).isNull().cast(\"int\")).alias(f\"null_count_{c}\") \n",
    "    for c in data.columns\n",
    "])\n",
    "null_counts.show()"
   ]
  },
  {
   "cell_type": "code",
   "execution_count": 9,
   "id": "1a9cf8ad",
   "metadata": {},
   "outputs": [
    {
     "name": "stdout",
     "output_type": "stream",
     "text": [
      "+-------------------+--------+-------+------+--------+-----------+------+----------------+-----+----------+----------+--------+--------+-----------+----+-----+---+-----------+\n",
      "|               hour|     lat|   long|signal| network|   operator|status|     description|speed|satellites|precission|provider|activity|postal_code|year|month|day|hour_of_day|\n",
      "+-------------------+--------+-------+------+--------+-----------+------+----------------+-----+----------+----------+--------+--------+-----------+----+-----+---+-----------+\n",
      "|2025-05-13 00:01:16|41.67089|0.53407|     2|vodafone|vodafone ES|     0|STATE_IN_SERVICE|  0.0|       4.0|      51.0|     gps|   STILL|   250236.0|2025|    5| 13|          0|\n",
      "|2025-05-13 00:01:47|41.71431|1.77029|     3|vodafone|vodafone ES|     0|STATE_IN_SERVICE|  0.0|       2.0|     128.0|     gps|   STILL|    81786.0|2025|    5| 13|          0|\n",
      "|2025-05-13 00:01:59|41.44174|1.86907|    11|  orange|    JAZZTEL|     0|STATE_IN_SERVICE|  0.2|       5.0|      25.0|     gps| TILTING|    80919.0|2025|    5| 13|          0|\n",
      "|2025-05-13 00:05:15|41.20896|1.55499|     6|  orange|     Orange|     0|STATE_IN_SERVICE|  0.1|       5.0|      11.0|     gps| TILTING|   431634.0|2025|    5| 13|          0|\n",
      "|2025-05-13 00:06:54|41.44159|1.86879|    10|  orange|    JAZZTEL|     0|STATE_IN_SERVICE|  0.3|       3.0|      19.0|     gps| TILTING|    80919.0|2025|    5| 13|          0|\n",
      "|2025-05-13 00:09:20|41.04247|0.73315|    12|movistar|   Movistar|     0|STATE_IN_SERVICE|  0.0|       0.0|      26.0|   fused|   STILL|   431508.0|2025|    5| 13|          0|\n",
      "|2025-05-13 00:11:07|41.95519|2.64005|     9|vodafone|vodafone ES|     0|STATE_IN_SERVICE|  0.0|       0.0|      88.0|   fused| TILTING|   170084.0|2025|    5| 13|          0|\n",
      "|2025-05-13 00:11:15|41.67099|0.53379|     3|vodafone|vodafone ES|     0|STATE_IN_SERVICE|  0.2|       6.0|       9.0|     gps|   STILL|   250236.0|2025|    5| 13|          0|\n",
      "|2025-05-13 00:11:33|41.60815|2.09291|    51|vodafone|vodafone ES|     0|STATE_IN_SERVICE|  0.0|       1.0|      20.0|     gps|   STILL|    80517.0|2025|    5| 13|          0|\n",
      "|2025-05-13 00:36:35|41.60773|2.09341|    29|vodafone|vodafone ES|     0|STATE_IN_SERVICE|  0.2|       1.0|      46.0|     gps|   STILL|    80517.0|2025|    5| 13|          0|\n",
      "|2025-05-13 00:39:58|41.71435| 1.7698|     7|vodafone|vodafone ES|     0|STATE_IN_SERVICE|  0.0|       1.0|      64.0|     gps|   STILL|    81786.0|2025|    5| 13|          0|\n",
      "|2025-05-13 00:40:49|  41.294|1.77782|     4|movistar|   movistar|     0|STATE_IN_SERVICE|  0.0|       1.0|      16.0|     gps| TILTING|    81483.0|2025|    5| 13|          0|\n",
      "|2025-05-13 00:50:00|41.71445|1.76929|     6|vodafone|vodafone ES|     0|STATE_IN_SERVICE|  0.3|       0.0|      96.0|     gps|   STILL|    81786.0|2025|    5| 13|          0|\n",
      "|2025-05-13 00:50:26|41.48865|2.13417|     3|  orange|     Orange|     0|STATE_IN_SERVICE|  1.7|       3.0|      29.0|     gps| UNKNOWN|    82665.0|2025|    5| 13|          0|\n",
      "|2025-05-13 00:57:17|41.84139|2.24986|     9|vodafone|vodafone ES|     0|STATE_IN_SERVICE|  0.0|       5.0|      17.0|     gps| ON_FOOT|    82690.0|2025|    5| 13|          0|\n",
      "|2025-05-13 01:11:16|41.29094|1.98302|     4|vodafone|vodafone ES|     0|STATE_IN_SERVICE|  0.0|       0.0|      36.0|   fused|   STILL|    80569.0|2025|    5| 13|          1|\n",
      "|2025-05-13 01:14:26|41.92356| 2.3257|     2|  orange|     Orange|     0|STATE_IN_SERVICE|  0.0|       3.0|       6.0|     gps|   STILL|    82205.0|2025|    5| 13|          1|\n",
      "|2025-05-13 01:16:33|41.86381|2.65523|    28|movistar|   Movistar|     0|STATE_IN_SERVICE|  0.0|       2.0|      25.0|     gps|   STILL|   171805.0|2025|    5| 13|          1|\n",
      "|2025-05-13 01:31:26|41.69197|2.49059|     4|movistar|   Movistar|     0|STATE_IN_SERVICE|  0.0|       2.0|      18.0|     gps|   STILL|    82021.0|2025|    5| 13|          1|\n",
      "|2025-05-13 01:41:15|41.67128|0.53368|     3|vodafone|vodafone ES|     0|STATE_IN_SERVICE|  0.0|       7.0|      26.0|     gps|   STILL|   250236.0|2025|    5| 13|          1|\n",
      "+-------------------+--------+-------+------+--------+-----------+------+----------------+-----+----------+----------+--------+--------+-----------+----+-----+---+-----------+\n",
      "only showing top 20 rows\n",
      "\n"
     ]
    }
   ],
   "source": [
    "cleaned_data = cleaned_data.withColumn(\"year\", year(col(\"hour\"))) \\\n",
    "                        .withColumn(\"month\", month(col(\"hour\"))) \\\n",
    "                        .withColumn(\"day\", dayofmonth(col(\"hour\"))) \\\n",
    "                        .withColumn(\"hour_of_day\", hour(col(\"hour\")))\n",
    "cleaned_data.show()"
   ]
  },
  {
   "cell_type": "code",
   "execution_count": 10,
   "id": "c8354ce7",
   "metadata": {},
   "outputs": [
    {
     "name": "stdout",
     "output_type": "stream",
     "text": [
      "+-------------------+--------+-------+------+--------+-----------+------+----------------+-----+----------+----------+--------+--------+-----------+----+-----+---+-----------+--------+\n",
      "|               hour|     lat|   long|signal| network|   operator|status|     description|speed|satellites|precission|provider|activity|postal_code|year|month|day|hour_of_day|    time|\n",
      "+-------------------+--------+-------+------+--------+-----------+------+----------------+-----+----------+----------+--------+--------+-----------+----+-----+---+-----------+--------+\n",
      "|2025-05-13 00:01:16|41.67089|0.53407|     2|vodafone|vodafone ES|     0|STATE_IN_SERVICE|  0.0|       4.0|      51.0|     gps|   STILL|   250236.0|2025|    5| 13|          0|00:01:16|\n",
      "|2025-05-13 00:01:47|41.71431|1.77029|     3|vodafone|vodafone ES|     0|STATE_IN_SERVICE|  0.0|       2.0|     128.0|     gps|   STILL|    81786.0|2025|    5| 13|          0|00:01:47|\n",
      "|2025-05-13 00:01:59|41.44174|1.86907|    11|  orange|    JAZZTEL|     0|STATE_IN_SERVICE|  0.2|       5.0|      25.0|     gps| TILTING|    80919.0|2025|    5| 13|          0|00:01:59|\n",
      "|2025-05-13 00:05:15|41.20896|1.55499|     6|  orange|     Orange|     0|STATE_IN_SERVICE|  0.1|       5.0|      11.0|     gps| TILTING|   431634.0|2025|    5| 13|          0|00:05:15|\n",
      "|2025-05-13 00:06:54|41.44159|1.86879|    10|  orange|    JAZZTEL|     0|STATE_IN_SERVICE|  0.3|       3.0|      19.0|     gps| TILTING|    80919.0|2025|    5| 13|          0|00:06:54|\n",
      "|2025-05-13 00:09:20|41.04247|0.73315|    12|movistar|   Movistar|     0|STATE_IN_SERVICE|  0.0|       0.0|      26.0|   fused|   STILL|   431508.0|2025|    5| 13|          0|00:09:20|\n",
      "|2025-05-13 00:11:07|41.95519|2.64005|     9|vodafone|vodafone ES|     0|STATE_IN_SERVICE|  0.0|       0.0|      88.0|   fused| TILTING|   170084.0|2025|    5| 13|          0|00:11:07|\n",
      "|2025-05-13 00:11:15|41.67099|0.53379|     3|vodafone|vodafone ES|     0|STATE_IN_SERVICE|  0.2|       6.0|       9.0|     gps|   STILL|   250236.0|2025|    5| 13|          0|00:11:15|\n",
      "|2025-05-13 00:11:33|41.60815|2.09291|    51|vodafone|vodafone ES|     0|STATE_IN_SERVICE|  0.0|       1.0|      20.0|     gps|   STILL|    80517.0|2025|    5| 13|          0|00:11:33|\n",
      "|2025-05-13 00:36:35|41.60773|2.09341|    29|vodafone|vodafone ES|     0|STATE_IN_SERVICE|  0.2|       1.0|      46.0|     gps|   STILL|    80517.0|2025|    5| 13|          0|00:36:35|\n",
      "|2025-05-13 00:39:58|41.71435| 1.7698|     7|vodafone|vodafone ES|     0|STATE_IN_SERVICE|  0.0|       1.0|      64.0|     gps|   STILL|    81786.0|2025|    5| 13|          0|00:39:58|\n",
      "|2025-05-13 00:40:49|  41.294|1.77782|     4|movistar|   movistar|     0|STATE_IN_SERVICE|  0.0|       1.0|      16.0|     gps| TILTING|    81483.0|2025|    5| 13|          0|00:40:49|\n",
      "|2025-05-13 00:50:00|41.71445|1.76929|     6|vodafone|vodafone ES|     0|STATE_IN_SERVICE|  0.3|       0.0|      96.0|     gps|   STILL|    81786.0|2025|    5| 13|          0|00:50:00|\n",
      "|2025-05-13 00:50:26|41.48865|2.13417|     3|  orange|     Orange|     0|STATE_IN_SERVICE|  1.7|       3.0|      29.0|     gps| UNKNOWN|    82665.0|2025|    5| 13|          0|00:50:26|\n",
      "|2025-05-13 00:57:17|41.84139|2.24986|     9|vodafone|vodafone ES|     0|STATE_IN_SERVICE|  0.0|       5.0|      17.0|     gps| ON_FOOT|    82690.0|2025|    5| 13|          0|00:57:17|\n",
      "|2025-05-13 01:11:16|41.29094|1.98302|     4|vodafone|vodafone ES|     0|STATE_IN_SERVICE|  0.0|       0.0|      36.0|   fused|   STILL|    80569.0|2025|    5| 13|          1|01:11:16|\n",
      "|2025-05-13 01:14:26|41.92356| 2.3257|     2|  orange|     Orange|     0|STATE_IN_SERVICE|  0.0|       3.0|       6.0|     gps|   STILL|    82205.0|2025|    5| 13|          1|01:14:26|\n",
      "|2025-05-13 01:16:33|41.86381|2.65523|    28|movistar|   Movistar|     0|STATE_IN_SERVICE|  0.0|       2.0|      25.0|     gps|   STILL|   171805.0|2025|    5| 13|          1|01:16:33|\n",
      "|2025-05-13 01:31:26|41.69197|2.49059|     4|movistar|   Movistar|     0|STATE_IN_SERVICE|  0.0|       2.0|      18.0|     gps|   STILL|    82021.0|2025|    5| 13|          1|01:31:26|\n",
      "|2025-05-13 01:41:15|41.67128|0.53368|     3|vodafone|vodafone ES|     0|STATE_IN_SERVICE|  0.0|       7.0|      26.0|     gps|   STILL|   250236.0|2025|    5| 13|          1|01:41:15|\n",
      "+-------------------+--------+-------+------+--------+-----------+------+----------------+-----+----------+----------+--------+--------+-----------+----+-----+---+-----------+--------+\n",
      "only showing top 20 rows\n",
      "\n"
     ]
    }
   ],
   "source": [
    "cleaned_data = cleaned_data.withColumn(\n",
    "    \"time\", date_format(col(\"hour\"), \"HH:mm:ss\")\n",
    ")\n",
    "cleaned_data.show()"
   ]
  },
  {
   "cell_type": "code",
   "execution_count": 11,
   "id": "57558e0f",
   "metadata": {},
   "outputs": [
    {
     "name": "stdout",
     "output_type": "stream",
     "text": [
      "+-------------------+--------+-------+------+--------+-----------+------+----------------+-----+----------+----------+--------+--------+-----------+----+-----+---+-----------+--------+\n",
      "|          timestamp|     lat|   long|signal| network|   operator|status|     description|speed|satellites|precission|provider|activity|postal_code|year|month|day|hour_of_day|    time|\n",
      "+-------------------+--------+-------+------+--------+-----------+------+----------------+-----+----------+----------+--------+--------+-----------+----+-----+---+-----------+--------+\n",
      "|2025-05-13 00:01:16|41.67089|0.53407|     2|vodafone|vodafone ES|     0|STATE_IN_SERVICE|  0.0|       4.0|      51.0|     gps|   STILL|   250236.0|2025|    5| 13|          0|00:01:16|\n",
      "|2025-05-13 00:01:47|41.71431|1.77029|     3|vodafone|vodafone ES|     0|STATE_IN_SERVICE|  0.0|       2.0|     128.0|     gps|   STILL|    81786.0|2025|    5| 13|          0|00:01:47|\n",
      "|2025-05-13 00:01:59|41.44174|1.86907|    11|  orange|    JAZZTEL|     0|STATE_IN_SERVICE|  0.2|       5.0|      25.0|     gps| TILTING|    80919.0|2025|    5| 13|          0|00:01:59|\n",
      "|2025-05-13 00:05:15|41.20896|1.55499|     6|  orange|     Orange|     0|STATE_IN_SERVICE|  0.1|       5.0|      11.0|     gps| TILTING|   431634.0|2025|    5| 13|          0|00:05:15|\n",
      "|2025-05-13 00:06:54|41.44159|1.86879|    10|  orange|    JAZZTEL|     0|STATE_IN_SERVICE|  0.3|       3.0|      19.0|     gps| TILTING|    80919.0|2025|    5| 13|          0|00:06:54|\n",
      "|2025-05-13 00:09:20|41.04247|0.73315|    12|movistar|   Movistar|     0|STATE_IN_SERVICE|  0.0|       0.0|      26.0|   fused|   STILL|   431508.0|2025|    5| 13|          0|00:09:20|\n",
      "|2025-05-13 00:11:07|41.95519|2.64005|     9|vodafone|vodafone ES|     0|STATE_IN_SERVICE|  0.0|       0.0|      88.0|   fused| TILTING|   170084.0|2025|    5| 13|          0|00:11:07|\n",
      "|2025-05-13 00:11:15|41.67099|0.53379|     3|vodafone|vodafone ES|     0|STATE_IN_SERVICE|  0.2|       6.0|       9.0|     gps|   STILL|   250236.0|2025|    5| 13|          0|00:11:15|\n",
      "|2025-05-13 00:11:33|41.60815|2.09291|    51|vodafone|vodafone ES|     0|STATE_IN_SERVICE|  0.0|       1.0|      20.0|     gps|   STILL|    80517.0|2025|    5| 13|          0|00:11:33|\n",
      "|2025-05-13 00:36:35|41.60773|2.09341|    29|vodafone|vodafone ES|     0|STATE_IN_SERVICE|  0.2|       1.0|      46.0|     gps|   STILL|    80517.0|2025|    5| 13|          0|00:36:35|\n",
      "|2025-05-13 00:39:58|41.71435| 1.7698|     7|vodafone|vodafone ES|     0|STATE_IN_SERVICE|  0.0|       1.0|      64.0|     gps|   STILL|    81786.0|2025|    5| 13|          0|00:39:58|\n",
      "|2025-05-13 00:40:49|  41.294|1.77782|     4|movistar|   movistar|     0|STATE_IN_SERVICE|  0.0|       1.0|      16.0|     gps| TILTING|    81483.0|2025|    5| 13|          0|00:40:49|\n",
      "|2025-05-13 00:50:00|41.71445|1.76929|     6|vodafone|vodafone ES|     0|STATE_IN_SERVICE|  0.3|       0.0|      96.0|     gps|   STILL|    81786.0|2025|    5| 13|          0|00:50:00|\n",
      "|2025-05-13 00:50:26|41.48865|2.13417|     3|  orange|     Orange|     0|STATE_IN_SERVICE|  1.7|       3.0|      29.0|     gps| UNKNOWN|    82665.0|2025|    5| 13|          0|00:50:26|\n",
      "|2025-05-13 00:57:17|41.84139|2.24986|     9|vodafone|vodafone ES|     0|STATE_IN_SERVICE|  0.0|       5.0|      17.0|     gps| ON_FOOT|    82690.0|2025|    5| 13|          0|00:57:17|\n",
      "|2025-05-13 01:11:16|41.29094|1.98302|     4|vodafone|vodafone ES|     0|STATE_IN_SERVICE|  0.0|       0.0|      36.0|   fused|   STILL|    80569.0|2025|    5| 13|          1|01:11:16|\n",
      "|2025-05-13 01:14:26|41.92356| 2.3257|     2|  orange|     Orange|     0|STATE_IN_SERVICE|  0.0|       3.0|       6.0|     gps|   STILL|    82205.0|2025|    5| 13|          1|01:14:26|\n",
      "|2025-05-13 01:16:33|41.86381|2.65523|    28|movistar|   Movistar|     0|STATE_IN_SERVICE|  0.0|       2.0|      25.0|     gps|   STILL|   171805.0|2025|    5| 13|          1|01:16:33|\n",
      "|2025-05-13 01:31:26|41.69197|2.49059|     4|movistar|   Movistar|     0|STATE_IN_SERVICE|  0.0|       2.0|      18.0|     gps|   STILL|    82021.0|2025|    5| 13|          1|01:31:26|\n",
      "|2025-05-13 01:41:15|41.67128|0.53368|     3|vodafone|vodafone ES|     0|STATE_IN_SERVICE|  0.0|       7.0|      26.0|     gps|   STILL|   250236.0|2025|    5| 13|          1|01:41:15|\n",
      "+-------------------+--------+-------+------+--------+-----------+------+----------------+-----+----------+----------+--------+--------+-----------+----+-----+---+-----------+--------+\n",
      "only showing top 20 rows\n",
      "\n"
     ]
    }
   ],
   "source": [
    "cleaned_data = cleaned_data.withColumnRenamed(\"hour\", \"timestamp\")\n",
    "cleaned_data.show()"
   ]
  },
  {
   "cell_type": "code",
   "execution_count": 12,
   "id": "9711be80",
   "metadata": {},
   "outputs": [
    {
     "name": "stdout",
     "output_type": "stream",
     "text": [
      "root\n",
      " |-- timestamp: timestamp (nullable = true)\n",
      " |-- lat: double (nullable = true)\n",
      " |-- long: double (nullable = true)\n",
      " |-- signal: integer (nullable = true)\n",
      " |-- network: string (nullable = true)\n",
      " |-- operator: string (nullable = true)\n",
      " |-- status: integer (nullable = true)\n",
      " |-- description: string (nullable = true)\n",
      " |-- speed: double (nullable = true)\n",
      " |-- satellites: double (nullable = true)\n",
      " |-- precission: double (nullable = true)\n",
      " |-- provider: string (nullable = true)\n",
      " |-- activity: string (nullable = true)\n",
      " |-- postal_code: double (nullable = true)\n",
      " |-- year: integer (nullable = true)\n",
      " |-- month: integer (nullable = true)\n",
      " |-- day: integer (nullable = true)\n",
      " |-- hour_of_day: integer (nullable = true)\n",
      " |-- time: string (nullable = true)\n",
      "\n"
     ]
    }
   ],
   "source": [
    "cleaned_data.printSchema()"
   ]
  },
  {
   "cell_type": "code",
   "execution_count": null,
   "id": "38482ad1",
   "metadata": {},
   "outputs": [
    {
     "name": "stdout",
     "output_type": "stream",
     "text": [
      "+--------------------+-------------------+-----------------+\n",
      "|            operator|avg_signal_strength|avg_gps_precision|\n",
      "+--------------------+-------------------+-----------------+\n",
      "|              Tuenti|                3.0|             68.4|\n",
      "|               Yoigo|               12.2|             11.7|\n",
      "|              Orange|               11.8|             34.7|\n",
      "|           pepephone|               11.8|             34.1|\n",
      "|            movistar|                8.5|             22.4|\n",
      "|            Movistar|                9.2|             25.0|\n",
      "|        Eroski Movil|               11.3|             14.7|\n",
      "|               YOIGO|               14.5|             44.4|\n",
      "|         vodafone ES|               12.8|             31.7|\n",
      "|Solo llamadas de ...|               17.8|             17.3|\n",
      "|             JAZZTEL|               11.0|             18.8|\n",
      "|                RACC|                6.5|             22.6|\n",
      "|               simyo|               31.5|             24.5|\n",
      "+--------------------+-------------------+-----------------+\n",
      "\n"
     ]
    }
   ],
   "source": [
    "# KPI 1: Average Signal Strength and GPS Precision per Operator\n",
    "operator_metrics = cleaned_data.groupBy(\"operator\").agg(\n",
    "    round(avg(\"signal\").cast(\"double\"), 1).alias(\"avg_signal_strength\"),\n",
    "    round(avg(\"precission\"), 1).alias(\"avg_gps_precision\")\n",
    ")\n",
    "\n",
    "operator_metrics.show()"
   ]
  },
  {
   "cell_type": "code",
   "execution_count": null,
   "id": "0c06c191",
   "metadata": {},
   "outputs": [
    {
     "name": "stdout",
     "output_type": "stream",
     "text": [
      "+-----------+------------+\n",
      "|postal_code|status_count|\n",
      "+-----------+------------+\n",
      "|   172142.0|           1|\n",
      "|   250740.0|           2|\n",
      "|    80351.0|           1|\n",
      "|   430385.0|           1|\n",
      "|    82212.0|           1|\n",
      "|   172305.0|           1|\n",
      "|    81568.0|           9|\n",
      "|   171479.0|           3|\n",
      "|    80039.0|          10|\n",
      "|    81043.0|           6|\n",
      "|   172076.0|           1|\n",
      "|    82359.0|           1|\n",
      "|    81803.0|           1|\n",
      "|    82613.0|           5|\n",
      "|   250030.0|           7|\n",
      "|   170427.0|           4|\n",
      "|    81311.0|           1|\n",
      "|   171143.0|           6|\n",
      "|    82690.0|          14|\n",
      "|    80898.0|           2|\n",
      "+-----------+------------+\n",
      "only showing top 20 rows\n",
      "\n"
     ]
    }
   ],
   "source": [
    "# KPI 2: Count of Network Statuses per Postal Code\n",
    "# Use status_str if categorical mapping is applied, else use status\n",
    "status_counts = cleaned_data.groupBy(\"postal_code\").agg(\n",
    "    count(\"*\").alias(\"status_count\")\n",
    ")\n",
    "status_counts.show()"
   ]
  },
  {
   "cell_type": "code",
   "execution_count": null,
   "id": "868ae6c5",
   "metadata": {},
   "outputs": [],
   "source": []
  }
 ],
 "metadata": {
  "kernelspec": {
   "display_name": "venv",
   "language": "python",
   "name": "python3"
  },
  "language_info": {
   "codemirror_mode": {
    "name": "ipython",
    "version": 3
   },
   "file_extension": ".py",
   "mimetype": "text/x-python",
   "name": "python",
   "nbconvert_exporter": "python",
   "pygments_lexer": "ipython3",
   "version": "3.12.3"
  }
 },
 "nbformat": 4,
 "nbformat_minor": 5
}
